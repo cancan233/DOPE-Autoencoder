{
 "cells": [
  {
   "cell_type": "code",
   "execution_count": 1,
   "metadata": {},
   "outputs": [],
   "source": [
    "import pandas as pd\n",
    "import numpy as np\n",
    "import glob\n",
    "import os\n",
    "from datetime import datetime\n",
    "import json"
   ]
  },
  {
   "cell_type": "markdown",
   "metadata": {},
   "source": [
    "## Collect the conversion relation between bcr_patient_uuid and bcr_sample_barcode"
   ]
  },
  {
   "cell_type": "code",
   "execution_count": 2,
   "metadata": {},
   "outputs": [],
   "source": [
    "uuid2barcode = {} # store the conversion in dict\n",
    "path = \"../data/biomed_clinic_data/01_csv_data\"\n",
    "all_files = glob.glob(os.path.join(path, \"*.csv\"))\n",
    "for f in all_files:\n",
    "    df = pd.read_csv(f, sep=\",\")\n",
    "    if \"bcr_patient_uuid\" in df and \"bcr_patient_barcode\" in df:\n",
    "        for i in range(2, df.shape[0]):\n",
    "            if df[\"bcr_patient_uuid\"][i] not in uuid2barcode:\n",
    "                uuid2barcode[df[\"bcr_patient_uuid\"][i]] = (\n",
    "                    df[\"bcr_patient_barcode\"][i] + \"-01\"\n",
    "                )"
   ]
  },
  {
   "cell_type": "code",
   "execution_count": 3,
   "metadata": {},
   "outputs": [],
   "source": [
    "# store the conversion if wanted\n",
    "with open(\"uuid2barcode.json\", \"w\") as file:\n",
    "    json.dump(uuid2barcode, file)"
   ]
  },
  {
   "cell_type": "markdown",
   "metadata": {},
   "source": [
    "## Merge the original multi-omics and biomed-clinical data using bcr_sample_barcode as index"
   ]
  },
  {
   "cell_type": "code",
   "execution_count": 4,
   "metadata": {},
   "outputs": [],
   "source": [
    "def merge_omics_biomed(omic_df, biomed_df, uuid2barcode, merged_name):\n",
    "    (num_patients, num_features) = omic_df.shape\n",
    "    print(\n",
    "        f\"Number of features: {num_features} \\t Number of patients: {num_patients} in omics data\"\n",
    "    )\n",
    "\n",
    "    (num_patients, num_features) = biomed_df.shape\n",
    "    print(\n",
    "        f\"Number of features: {num_features} \\t Number of patients: {num_patients} in biomed data\"\n",
    "    )\n",
    "\n",
    "    # change uuid to barcode\n",
    "    biomed_df[\"bcr_patient_barcode\"] = \"TEST\"\n",
    "    for i in range(biomed_df.shape[0]):\n",
    "        if biomed_df[\"bcr_patient_uuid\"][i] in uuid2barcode:\n",
    "            biomed_df[\"bcr_patient_barcode\"][i] = uuid2barcode[\n",
    "                biomed_df[\"bcr_patient_uuid\"][i]\n",
    "            ]\n",
    "        else:\n",
    "            biomed_df[\"bcr_patient_barcode\"][i] = None\n",
    "    biomed_df.drop(columns=[\"bcr_patient_uuid\"], inplace=True)\n",
    "\n",
    "    # Temporary only take the \"RECURRENCE\" data\n",
    "    target_df = biomed_df\n",
    "    target_df = target_df.drop_duplicates()\n",
    "    target_df = target_df.set_index(\"bcr_patient_barcode\")\n",
    "\n",
    "    (num_patients, num_features) = target_df.shape\n",
    "    print(\n",
    "        f\"Number of features: {num_features} \\t Number of patients: {num_patients} in omics data\"\n",
    "    )\n",
    "\n",
    "    (num_patients, num_features) = omic_df.shape\n",
    "    print(\n",
    "        f\"Number of features: {num_features} \\t Number of patients: {num_patients} in biomed data\"\n",
    "    )\n",
    "    \n",
    "    merged_df = pd.merge(target_df, omic_df, left_index=True, right_index=True)\n",
    "    \n",
    "    # move \"RECURRENCE\" to the last column\n",
    "    column_to_reorder = merged_df.pop(\"RECURRENCE\")\n",
    "    merged_df.insert(len(merged_df.columns), \"RECURRENCE\", column_to_reorder)\n",
    "\n",
    "    (num_patients, num_features) = merged_df.shape\n",
    "    print(\n",
    "        f\"Number of features: {num_features} \\t Number of patients: {num_patients} in biomed data\"\n",
    "    )\n",
    "    \n",
    "    merged_df.to_csv(\"./{}\".format(merged_name))\n",
    "\n",
    "    return target_df, omic_df, merged_df"
   ]
  },
  {
   "cell_type": "code",
   "execution_count": null,
   "metadata": {},
   "outputs": [
    {
     "name": "stdout",
     "output_type": "stream",
     "text": [
      "Number of features: 58512 \t Number of patients: 555 in omics data\n",
      "Number of features: 85 \t Number of patients: 956 in biomed data\n",
      "Number of features: 84 \t Number of patients: 467 in omics data\n",
      "Number of features: 58512 \t Number of patients: 555 in biomed data\n",
      "Number of features: 58596 \t Number of patients: 450 in biomed data\n"
     ]
    },
    {
     "name": "stderr",
     "output_type": "stream",
     "text": [
      "/home/huangcancan/softwares/miniconda3/envs/dope/lib/python3.7/site-packages/ipykernel_launcher.py:17: SettingWithCopyWarning: \n",
      "A value is trying to be set on a copy of a slice from a DataFrame\n",
      "\n",
      "See the caveats in the documentation: https://pandas.pydata.org/pandas-docs/stable/user_guide/indexing.html#returning-a-view-versus-a-copy\n"
     ]
    }
   ],
   "source": [
    "# Load multi-omics data into dataframe\n",
    "omics = \"cnv_methyl_mrna\"\n",
    "omic_df = pd.read_csv(\n",
    "        \"../data/omics_data/1_csv_data/{}.csv\".format(omics), index_col=0\n",
    "    ).T\n",
    "omic_df = omic_df.astype(\"float32\")\n",
    "\n",
    "# Load biomed-clinical data into dataframe\n",
    "biomed = \"biomed_clinical_85features_w_barcodes\"\n",
    "biomed_df = (\n",
    "    pd.read_csv(\"../data/biomed_clinic_data/02_combined_data/{}.csv\".format(biomed), index_col=0,)\n",
    "    .drop_duplicates()\n",
    "    .drop(columns=[\"bcr_sample_barcode\"])\n",
    "    .reset_index()\n",
    ")\n",
    "\n",
    "# Load the conversion between uuid and barcode\n",
    "with open(\"uuid2barcode.json\", \"r\") as file:\n",
    "    uuid2barcode = json.load(file)\n",
    "    \n",
    "# merge multi-omics and biomed-clinical data\n",
    "merged_name = \"{}_biomed_clinical_85_features.csv\".format(omics)\n",
    "biomed_df, omic_df, merged_df = merge_omics_biomed(omic_df, biomed_df, uuid2barcode, merged_name)"
   ]
  },
  {
   "cell_type": "code",
   "execution_count": null,
   "metadata": {},
   "outputs": [],
   "source": [
    "biomed_df.head()"
   ]
  },
  {
   "cell_type": "code",
   "execution_count": null,
   "metadata": {},
   "outputs": [],
   "source": [
    "omic_df.head()"
   ]
  },
  {
   "cell_type": "code",
   "execution_count": null,
   "metadata": {},
   "outputs": [],
   "source": [
    "merged_df.head()"
   ]
  },
  {
   "cell_type": "markdown",
   "metadata": {},
   "source": [
    "## Merge the encoded omics data with the biomed-clinical data using bcr_patient_barcode as index"
   ]
  },
  {
   "cell_type": "code",
   "execution_count": null,
   "metadata": {},
   "outputs": [],
   "source": [
    "# Load multi-omics data into dataframe\n",
    "omics = \"cnv_methyl_mrna\"\n",
    "omic_df = pd.read_csv(\n",
    "        \"../data/omics_data/1_csv_data/{}.csv\".format(omics), index_col=0\n",
    "    ).T\n",
    "omic_df = omic_df.astype(\"float32\")\n",
    "\n",
    "# Load biomed-clinical data into dataframe\n",
    "biomed = \"85_features_w_barcodes\"\n",
    "biomed_df = (\n",
    "    pd.read_csv(\"../data/biomed_clinic_data/02_combined_data/{}.csv\".format(biomed), index_col=0,)\n",
    "    .drop_duplicates()\n",
    "    .drop(columns=[\"bcr_sample_barcode\"])\n",
    "    .reset_index()\n",
    ")\n",
    "\n",
    "# Load the conversion between uuid and barcode\n",
    "with open(\"uuid2barcode.json\", \"r\") as file:\n",
    "    uuid2barcode = json.load(file)\n",
    "    \n",
    "# merge multi-omics and biomed-clinical data\n",
    "merged_name = \"{}_biomed_clinical_85_features.csv\".format(omics)\n",
    "merged_df = merge_omics_biomed(omic_df, biomed_df, uuid2barcode, merged_name)"
   ]
  }
 ],
 "metadata": {
  "kernelspec": {
   "display_name": "Python 3",
   "language": "python",
   "name": "python3"
  },
  "language_info": {
   "codemirror_mode": {
    "name": "ipython",
    "version": 3
   },
   "file_extension": ".py",
   "mimetype": "text/x-python",
   "name": "python",
   "nbconvert_exporter": "python",
   "pygments_lexer": "ipython3",
   "version": "3.7.11"
  }
 },
 "nbformat": 4,
 "nbformat_minor": 4
}
