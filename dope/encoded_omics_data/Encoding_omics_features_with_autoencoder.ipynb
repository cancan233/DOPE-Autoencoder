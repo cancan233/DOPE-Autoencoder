{
 "cells": [
  {
   "cell_type": "markdown",
   "metadata": {},
   "source": [
    "## Train autoencoder with multi-omics data\n",
    "\n",
    "Here I only show the case using `cnv_methyl_mrna` data to generate and store its encoded features into `latent_features_vanilla_cnv_methyl_mrna_biomed_clinical_85_features.csv` file."
   ]
  },
  {
   "cell_type": "code",
   "execution_count": 7,
   "metadata": {},
   "outputs": [
    {
     "name": "stdout",
     "output_type": "stream",
     "text": [
      "===== starting =====\n",
      "checkpoint file saved at ./output/030422-161102_vanilla/checkpoints\n",
      "log file save as ./output/030422-161102_vanilla/logs\n",
      "===== loading omics data =====\n",
      "cnv_methyl_mrna.csv contains 555 patients with 58512 features\n",
      "===== Train autoencoder =====\n",
      "Epoch 1, Loss 4.95556927\n",
      "Epoch 2, Loss 4.83188295\n",
      "Epoch 3, Loss 4.83037424\n",
      "Epoch 4, Loss 4.83000946\n",
      "Epoch 5, Loss 4.82990789\n",
      "Epoch 6, Loss 4.82975960\n",
      "Epoch 7, Loss 4.82977247\n",
      "Epoch 8, Loss 4.82964087\n",
      "Epoch 9, Loss 4.82972670\n",
      "Epoch 10, Loss 4.82949686\n",
      "Epoch 11, Loss 4.82963514\n",
      "Epoch 12, Loss 4.82962084\n",
      "Epoch 13, Loss 4.82951117\n",
      "Epoch 14, Loss 4.82951260\n",
      "Epoch 15, Loss 4.82956409\n",
      "Epoch 16, Loss 4.82939196\n",
      "Epoch 17, Loss 4.82951784\n",
      "Epoch 18, Loss 4.82941008\n",
      "Epoch 19, Loss 4.82946730\n",
      "Epoch 20, Loss 4.82928705\n",
      "Epoch 21, Loss 4.82936954\n",
      "Epoch 22, Loss 4.82925510\n",
      "Epoch 23, Loss 4.82929325\n",
      "Epoch 24, Loss 4.82918358\n",
      "Epoch 25, Loss 4.82927847\n",
      "Epoch 26, Loss 4.82920265\n",
      "Epoch 27, Loss 4.82920885\n",
      "Epoch 28, Loss 4.82922935\n",
      "Epoch 29, Loss 4.82919121\n",
      "Epoch 30, Loss 4.82913303\n",
      "Epoch 31, Loss 4.82917023\n",
      "Epoch 32, Loss 4.82901621\n",
      "Epoch 33, Loss 4.82910824\n",
      "Epoch 34, Loss 4.82908440\n",
      "Epoch 35, Loss 4.82905674\n",
      "Epoch 36, Loss 4.82910585\n",
      "Epoch 37, Loss 4.82902527\n",
      "Epoch 38, Loss 4.82901955\n",
      "Epoch 39, Loss 4.82893419\n",
      "Epoch 40, Loss 4.82896757\n",
      "Epoch 41, Loss 4.82892656\n",
      "Epoch 42, Loss 4.82894278\n",
      "Epoch 43, Loss 4.82895184\n",
      "Epoch 44, Loss 4.82889748\n",
      "Epoch 45, Loss 4.82889557\n",
      "Epoch 46, Loss 4.82890511\n",
      "Epoch 47, Loss 4.82889795\n",
      "Epoch 48, Loss 4.82886744\n",
      "Epoch 49, Loss 4.82886410\n",
      "Epoch 50, Loss 4.82890654\n"
     ]
    }
   ],
   "source": [
    "!python ../codes/run.py --autoencoder-model vanilla \\\n",
    "                        --omics-data ../../data/omics_data/1_csv_data/cnv_methyl_mrna.csv \\\n",
    "                        --train-autoencoder"
   ]
  },
  {
   "cell_type": "code",
   "execution_count": 13,
   "metadata": {},
   "outputs": [
    {
     "name": "stdout",
     "output_type": "stream",
     "text": [
      "===== starting =====\n",
      "===== loading omics data =====\n",
      "cnv_methyl_mrna.csv contains 555 patients with 58512 features\n",
      "===== Loading pretrained autoencoder =====\n",
      "loading pretrained model at ./output/030422-161102_vanilla/checkpoints/epoch_49\n",
      "===== train classifier =====\n",
      "classifier data: encoded_omics\n",
      "===== classifier preprocess =====\n",
      "cnv_methyl_mrna_biomed_clinical_85_features.csv contains omics data for 450 patients with 58512 features\n",
      "save encoded omics features in latent_features_vanilla_cnv_methyl_mrna_biomed_clinical_85_features.csv\n",
      "===== finish omics encoding =====\n",
      "X_train:(360, 128) \n",
      " X_test:(90, 128)\n",
      " Y_train: (360,)\n",
      " Y_test: (90,)\n",
      "===== start XGB =====\n",
      "/gpfs/home/chuang25/pythonenv/tf_gpu/lib/python3.7/site-packages/xgboost/sklearn.py:1224: UserWarning: The use of label encoder in XGBClassifier is deprecated and will be removed in a future release. To remove this warning, do the following: 1) Pass option use_label_encoder=False when constructing XGBClassifier object; and 2) Encode your labels (y) as integers starting with 0, i.e. 0, 1, 2, ..., [num_class - 1].\n",
      "  warnings.warn(label_encoder_deprecation_msg, UserWarning)\n",
      "[16:30:21] WARNING: ../src/learner.cc:1115: Starting in XGBoost 1.3.0, the default evaluation metric used with the objective 'binary:logistic' was changed from 'error' to 'logloss'. Explicitly set eval_metric if you'd like to restore the old behavior.\n",
      "===== start RandomForest =====\n",
      "===== start LogisticRegression =====\n",
      "/gpfs/home/chuang25/pythonenv/tf_gpu/lib/python3.7/site-packages/sklearn/linear_model/_logistic.py:818: ConvergenceWarning: lbfgs failed to converge (status=1):\n",
      "STOP: TOTAL NO. of ITERATIONS REACHED LIMIT.\n",
      "\n",
      "Increase the number of iterations (max_iter) or scale the data as shown in:\n",
      "    https://scikit-learn.org/stable/modules/preprocessing.html\n",
      "Please also refer to the documentation for alternative solver options:\n",
      "    https://scikit-learn.org/stable/modules/linear_model.html#logistic-regression\n",
      "  extra_warning_msg=_LOGISTIC_SOLVER_CONVERGENCE_MSG,\n",
      "===== start SVC =====\n",
      "===== start plotting results =====\n",
      "/gpfs/home/chuang25/pythonenv/tf_gpu/lib/python3.7/site-packages/sklearn/utils/deprecation.py:87: FutureWarning: Function plot_roc_curve is deprecated; Function `plot_roc_curve` is deprecated in 1.0 and will be removed in 1.2. Use one of the class methods: RocCurveDisplay.from_predictions or RocCurveDisplay.from_estimator.\n",
      "  warnings.warn(msg, category=FutureWarning)\n",
      "/gpfs/home/chuang25/pythonenv/tf_gpu/lib/python3.7/site-packages/sklearn/utils/deprecation.py:87: FutureWarning: Function plot_roc_curve is deprecated; Function `plot_roc_curve` is deprecated in 1.0 and will be removed in 1.2. Use one of the class methods: RocCurveDisplay.from_predictions or RocCurveDisplay.from_estimator.\n",
      "  warnings.warn(msg, category=FutureWarning)\n",
      "/gpfs/home/chuang25/pythonenv/tf_gpu/lib/python3.7/site-packages/sklearn/utils/deprecation.py:87: FutureWarning: Function plot_roc_curve is deprecated; Function `plot_roc_curve` is deprecated in 1.0 and will be removed in 1.2. Use one of the class methods: RocCurveDisplay.from_predictions or RocCurveDisplay.from_estimator.\n",
      "  warnings.warn(msg, category=FutureWarning)\n",
      "/gpfs/home/chuang25/pythonenv/tf_gpu/lib/python3.7/site-packages/sklearn/utils/deprecation.py:87: FutureWarning: Function plot_roc_curve is deprecated; Function `plot_roc_curve` is deprecated in 1.0 and will be removed in 1.2. Use one of the class methods: RocCurveDisplay.from_predictions or RocCurveDisplay.from_estimator.\n",
      "  warnings.warn(msg, category=FutureWarning)\n",
      "Acc for XGBoost: 0.81\n",
      "Acc for RandomForest: 0.82\n",
      "Acc for LogisticRegression: 0.91\n",
      "Acc for SVC: 0.90\n"
     ]
    }
   ],
   "source": [
    "!python ../codes/run.py --autoencoder-model vanilla \\\n",
    "                        --classifier-model all \\\n",
    "                        --load-autoencoder ./output/030422-161102_vanilla/checkpoints/epoch_49 \\ # remember to change the checkpoint path\n",
    "                        --omics-data ../../data/omics_data/1_csv_data/cnv_methyl_mrna.csv \\ # make sure the tri-omics data is the same\n",
    "                        --biomed-data ../../data/biomed_clinic_data/02_combined_data/biomed_85features.csv \\\n",
    "                        --merged-data ../cnv_methyl_mrna_biomed_clinical_85_features.csv \\ # make sure the tri-omics data is the same\n",
    "                        --train-classifier \\\n",
    "                        --classifier-data encoded_omics \\\n",
    "                        --no-save \\\n",
    "                        --save-encoded-omics"
   ]
  }
 ],
 "metadata": {
  "kernelspec": {
   "display_name": "Python 3",
   "language": "python",
   "name": "python3"
  },
  "language_info": {
   "codemirror_mode": {
    "name": "ipython",
    "version": 3
   },
   "file_extension": ".py",
   "mimetype": "text/x-python",
   "name": "python",
   "nbconvert_exporter": "python",
   "pygments_lexer": "ipython3",
   "version": "3.7.11"
  }
 },
 "nbformat": 4,
 "nbformat_minor": 4
}
