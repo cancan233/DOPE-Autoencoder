{
 "cells": [
  {
   "cell_type": "markdown",
   "metadata": {},
   "source": [
    "Train autoencoder with multi-omics data"
   ]
  },
  {
   "cell_type": "code",
   "execution_count": 3,
   "metadata": {},
   "outputs": [
    {
     "name": "stdout",
     "output_type": "stream",
     "text": [
      "===== starting =====\n",
      "checkpoint file saved at ./output/030422-143219_vanilla/checkpoints\n",
      "log file save as ./output/030422-143219_vanilla/logs\n",
      "===== loading omics data =====\n",
      "cnv_methyl_rnaseq.csv contains 292 patients with 67622 features\n",
      "===== Train autoencoder =====\n",
      "Traceback (most recent call last):\n",
      "  File \"./codes/run.py\", line 453, in <module>\n",
      "    main()\n",
      "  File \"./codes/run.py\", line 214, in main\n",
      "    train_loss,\n",
      "  File \"./codes/run.py\", line 109, in autoencoder_train\n",
      "    optimizer.apply_gradients(zip(gradients, model.trainable_variables))\n",
      "  File \"/home/huangcancan/softwares/miniconda3/envs/dope/lib/python3.7/site-packages/tensorflow/python/keras/optimizer_v2/optimizer_v2.py\", line 604, in apply_gradients\n",
      "    self._create_all_weights(var_list)\n",
      "  File \"/home/huangcancan/softwares/miniconda3/envs/dope/lib/python3.7/site-packages/tensorflow/python/keras/optimizer_v2/optimizer_v2.py\", line 783, in _create_all_weights\n",
      "    self._create_slots(var_list)\n",
      "  File \"/home/huangcancan/softwares/miniconda3/envs/dope/lib/python3.7/site-packages/tensorflow/python/keras/optimizer_v2/adam.py\", line 129, in _create_slots\n",
      "    self.add_slot(var, 'v')\n",
      "  File \"/home/huangcancan/softwares/miniconda3/envs/dope/lib/python3.7/site-packages/tensorflow/python/keras/optimizer_v2/optimizer_v2.py\", line 851, in add_slot\n",
      "    initial_value=initial_value)\n",
      "  File \"/home/huangcancan/softwares/miniconda3/envs/dope/lib/python3.7/site-packages/tensorflow/python/ops/variables.py\", line 262, in __call__\n",
      "    return cls._variable_v2_call(*args, **kwargs)\n",
      "  File \"/home/huangcancan/softwares/miniconda3/envs/dope/lib/python3.7/site-packages/tensorflow/python/ops/variables.py\", line 256, in _variable_v2_call\n",
      "    shape=shape)\n",
      "  File \"/home/huangcancan/softwares/miniconda3/envs/dope/lib/python3.7/site-packages/tensorflow/python/ops/variables.py\", line 237, in <lambda>\n",
      "    previous_getter = lambda **kws: default_variable_creator_v2(None, **kws)\n",
      "  File \"/home/huangcancan/softwares/miniconda3/envs/dope/lib/python3.7/site-packages/tensorflow/python/ops/variable_scope.py\", line 2667, in default_variable_creator_v2\n",
      "    shape=shape)\n",
      "  File \"/home/huangcancan/softwares/miniconda3/envs/dope/lib/python3.7/site-packages/tensorflow/python/ops/variables.py\", line 264, in __call__\n",
      "    return super(VariableMetaclass, cls).__call__(*args, **kwargs)\n",
      "  File \"/home/huangcancan/softwares/miniconda3/envs/dope/lib/python3.7/site-packages/tensorflow/python/ops/resource_variable_ops.py\", line 1585, in __init__\n",
      "    distribute_strategy=distribute_strategy)\n",
      "  File \"/home/huangcancan/softwares/miniconda3/envs/dope/lib/python3.7/site-packages/tensorflow/python/ops/resource_variable_ops.py\", line 1712, in _init_from_args\n",
      "    initial_value = initial_value()\n",
      "  File \"/home/huangcancan/softwares/miniconda3/envs/dope/lib/python3.7/site-packages/tensorflow/python/keras/initializers/initializers_v2.py\", line 139, in __call__\n",
      "    return super(Zeros, self).__call__(shape, dtype=_get_dtype(dtype), **kwargs)\n",
      "  File \"/home/huangcancan/softwares/miniconda3/envs/dope/lib/python3.7/site-packages/tensorflow/python/ops/init_ops_v2.py\", line 154, in __call__\n",
      "    return array_ops.zeros(shape, dtype)\n",
      "  File \"/home/huangcancan/softwares/miniconda3/envs/dope/lib/python3.7/site-packages/tensorflow/python/util/dispatch.py\", line 201, in wrapper\n",
      "    return target(*args, **kwargs)\n",
      "  File \"/home/huangcancan/softwares/miniconda3/envs/dope/lib/python3.7/site-packages/tensorflow/python/ops/array_ops.py\", line 2819, in wrapped\n",
      "    tensor = fun(*args, **kwargs)\n",
      "  File \"/home/huangcancan/softwares/miniconda3/envs/dope/lib/python3.7/site-packages/tensorflow/python/ops/array_ops.py\", line 2880, in zeros\n",
      "    output = fill(shape, constant(zero, dtype=dtype), name=name)\n",
      "  File \"/home/huangcancan/softwares/miniconda3/envs/dope/lib/python3.7/site-packages/tensorflow/python/util/dispatch.py\", line 201, in wrapper\n",
      "    return target(*args, **kwargs)\n",
      "  File \"/home/huangcancan/softwares/miniconda3/envs/dope/lib/python3.7/site-packages/tensorflow/python/ops/array_ops.py\", line 239, in fill\n",
      "    result = gen_array_ops.fill(dims, value, name=name)\n",
      "  File \"/home/huangcancan/softwares/miniconda3/envs/dope/lib/python3.7/site-packages/tensorflow/python/ops/gen_array_ops.py\", line 3348, in fill\n",
      "    _ops.raise_from_not_ok_status(e, name)\n",
      "  File \"/home/huangcancan/softwares/miniconda3/envs/dope/lib/python3.7/site-packages/tensorflow/python/framework/ops.py\", line 6862, in raise_from_not_ok_status\n",
      "    six.raise_from(core._status_to_exception(e.code, message), None)\n",
      "  File \"<string>\", line 3, in raise_from\n",
      "tensorflow.python.framework.errors_impl.ResourceExhaustedError: OOM when allocating tensor with shape[2048,67622] and type float on /job:localhost/replica:0/task:0/device:CPU:0 by allocator mklcpu [Op:Fill]\n"
     ]
    }
   ],
   "source": [
    "!python ./codes/run.py --autoencoder-model vanilla --omics-data ../data/omics_data/1_csv_data/cnv_methyl_rnaseq.csv --train-autoencoder"
   ]
  }
 ],
 "metadata": {
  "kernelspec": {
   "display_name": "Python 3",
   "language": "python",
   "name": "python3"
  },
  "language_info": {
   "codemirror_mode": {
    "name": "ipython",
    "version": 3
   },
   "file_extension": ".py",
   "mimetype": "text/x-python",
   "name": "python",
   "nbconvert_exporter": "python",
   "pygments_lexer": "ipython3",
   "version": "3.7.11"
  }
 },
 "nbformat": 4,
 "nbformat_minor": 4
}
